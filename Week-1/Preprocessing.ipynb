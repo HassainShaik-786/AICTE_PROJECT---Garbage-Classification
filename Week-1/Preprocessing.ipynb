{
 "cells": [
  {
   "cell_type": "markdown",
   "id": "65dfddc2",
   "metadata": {},
   "source": [
    "# 🗑️ Week 1: Data Preprocessing for Garbage Classification\n",
    "This notebook handles loading, preprocessing, and augmenting image data for training a garbage classification model."
   ]
  },
  {
   "cell_type": "markdown",
   "id": "867b6a0d",
   "metadata": {},
   "source": [
    "## 📁 Step 1: Import Libraries"
   ]
  },
  {
   "cell_type": "code",
   "execution_count": null,
   "id": "ff316a25",
   "metadata": {},
   "outputs": [],
   "source": [
    "import os\n",
    "import numpy as np\n",
    "import matplotlib.pyplot as plt\n",
    "from tensorflow.keras.preprocessing.image import ImageDataGenerator"
   ]
  },
  {
   "cell_type": "markdown",
   "id": "9142c3ce",
   "metadata": {},
   "source": [
    "## 📂 Step 2: Set Directory Paths"
   ]
  },
  {
   "cell_type": "code",
   "execution_count": null,
   "id": "aa6f0fb3",
   "metadata": {},
   "outputs": [],
   "source": [
    "base_dir = '/content/dataset'  # Replace with your dataset path\n",
    "train_dir = os.path.join(base_dir, 'train')\n",
    "val_dir = os.path.join(base_dir, 'val')\n",
    "test_dir = os.path.join(base_dir, 'test')"
   ]
  },
  {
   "cell_type": "markdown",
   "id": "2b76d5d4",
   "metadata": {},
   "source": [
    "## 🔄 Step 3: Data Augmentation and Image Loading"
   ]
  },
  {
   "cell_type": "code",
   "execution_count": null,
   "id": "d249de7a",
   "metadata": {},
   "outputs": [],
   "source": [
    "train_datagen = ImageDataGenerator(\n",
    "    rescale=1./255,\n",
    "    rotation_range=30,\n",
    "    width_shift_range=0.1,\n",
    "    height_shift_range=0.1,\n",
    "    shear_range=0.2,\n",
    "    zoom_range=0.2,\n",
    "    horizontal_flip=True,\n",
    "    fill_mode='nearest')\n",
    "\n",
    "val_test_datagen = ImageDataGenerator(rescale=1./255)"
   ]
  },
  {
   "cell_type": "code",
   "execution_count": null,
   "id": "debbfa76",
   "metadata": {},
   "outputs": [],
   "source": [
    "train_generator = train_datagen.flow_from_directory(\n",
    "    train_dir,\n",
    "    target_size=(224, 224),\n",
    "    batch_size=32,\n",
    "    class_mode='categorical')\n",
    "\n",
    "val_generator = val_test_datagen.flow_from_directory(\n",
    "    val_dir,\n",
    "    target_size=(224, 224),\n",
    "    batch_size=32,\n",
    "    class_mode='categorical')\n",
    "\n",
    "test_generator = val_test_datagen.flow_from_directory(\n",
    "    test_dir,\n",
    "    target_size=(224, 224),\n",
    "    batch_size=32,\n",
    "    class_mode='categorical',\n",
    "    shuffle=False)"
   ]
  },
  {
   "cell_type": "markdown",
   "id": "8cb9bdf4",
   "metadata": {},
   "source": [
    "## 🔍 Step 4: Visualize a Few Training Images"
   ]
  },
  {
   "cell_type": "code",
   "execution_count": null,
   "id": "0376ce6f",
   "metadata": {},
   "outputs": [],
   "source": [
    "class_names = list(train_generator.class_indices.keys())\n",
    "images, labels = next(train_generator)\n",
    "\n",
    "plt.figure(figsize=(12, 6))\n",
    "for i in range(6):\n",
    "    plt.subplot(2, 3, i+1)\n",
    "    plt.imshow(images[i])\n",
    "    plt.title(class_names[np.argmax(labels[i])])\n",
    "    plt.axis('off')\n",
    "plt.tight_layout()\n",
    "plt.show()"
   ]
  }
 ],
 "metadata": {},
 "nbformat": 4,
 "nbformat_minor": 5
}
